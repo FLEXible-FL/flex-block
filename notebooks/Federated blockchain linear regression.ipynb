{
 "cells": [
  {
   "cell_type": "code",
   "execution_count": 1,
   "metadata": {},
   "outputs": [],
   "source": [
    "from sklearn.datasets import load_diabetes\n",
    "from sklearn.model_selection import train_test_split\n",
    "import numpy as np\n",
    "\n",
    "# Load the diabetes dataset\n",
    "diabetes = load_diabetes()\n",
    "\n",
    "# Generate train-test splits\n",
    "X_train, X_test, y_train, y_test = train_test_split(diabetes.data[:, np.newaxis, 2], diabetes.target, test_size=0.33, random_state=42)"
   ]
  },
  {
   "cell_type": "code",
   "execution_count": 2,
   "metadata": {},
   "outputs": [],
   "source": [
    "from flex.data import FedDataDistribution, Dataset\n",
    "\n",
    "train_diabetes = Dataset.from_numpy(X_train, y_train)\n",
    "test_diabetes = Dataset.from_numpy(X_test, y_test)\n",
    "\n",
    "federated_diabetes = FedDataDistribution.iid_distribution(train_diabetes, n_clients=5)"
   ]
  },
  {
   "cell_type": "code",
   "execution_count": 3,
   "metadata": {},
   "outputs": [
    {
     "name": "stdout",
     "output_type": "stream",
     "text": [
      "Number of nodes in the pool 7: 2 servers plus 5 clients. The server is also an aggregator\n"
     ]
    }
   ],
   "source": [
    "from sklearn.linear_model import LinearRegression\n",
    "from flex.pool import init_server_model\n",
    "from flexBlock.pool import DecoupledBlockchainPool\n",
    "from flex.model import FlexModel\n",
    "\n",
    "\n",
    "@init_server_model\n",
    "def build_server_model():\n",
    "    flex_model = FlexModel()\n",
    "    flex_model[\"model\"] = LinearRegression()\n",
    "    return flex_model\n",
    "\n",
    "\n",
    "p = DecoupledBlockchainPool(federated_diabetes, number_of_miners=2, init_func=build_server_model)\n",
    "\n",
    "servers = p.servers\n",
    "aggregators = p.aggregators\n",
    "clients = p.clients\n",
    "\n",
    "print(f\"Number of nodes in the pool {len(p.actor_ids)}: {len(servers)} servers plus {len(clients)} clients. The server is also an aggregator\")"
   ]
  },
  {
   "cell_type": "code",
   "execution_count": 4,
   "metadata": {},
   "outputs": [],
   "source": [
    "import copy\n",
    "\n",
    "from flex.pool import deploy_server_model\n",
    "\n",
    "@deploy_server_model\n",
    "def copy_server_model_to_clients(server_flex_model: FlexModel):\n",
    "    return copy.deepcopy(server_flex_model)\n",
    "\n",
    "servers.map(copy_server_model_to_clients, clients)"
   ]
  },
  {
   "cell_type": "code",
   "execution_count": 5,
   "metadata": {},
   "outputs": [],
   "source": [
    "def train(client_flex_model: FlexModel, client_data: Dataset):\n",
    "    client_flex_model[\"model\"].fit(client_data.X_data, client_data.y_data)\n",
    "\n",
    "clients.map(train)"
   ]
  },
  {
   "cell_type": "code",
   "execution_count": 6,
   "metadata": {},
   "outputs": [],
   "source": [
    "from flexBlock.pool import send_weights_to_miner\n",
    "\n",
    "@send_weights_to_miner\n",
    "def get_clients_weights(client_flex_model: FlexModel):\n",
    "    return [client_flex_model[\"model\"].intercept_, client_flex_model[\"model\"].coef_]\n",
    "\n",
    "aggregators.map(get_clients_weights, clients)\n",
    "\n",
    "# Aqui tengo que hacer que los mineros verifiquen que los pesos que les llegan son correctos y filtrar"
   ]
  },
  {
   "cell_type": "code",
   "execution_count": 7,
   "metadata": {},
   "outputs": [],
   "source": [
    "from flexBlock.pool import validate_models\n",
    "\n",
    "@validate_models\n",
    "def validate_all_models(model):\n",
    "    return True\n",
    "\n",
    "aggregators.map(validate_all_models, clients)"
   ]
  },
  {
   "cell_type": "code",
   "execution_count": 8,
   "metadata": {},
   "outputs": [
    {
     "data": {
      "text/plain": [
       "{'server-1': {'clients_connections': array([4, 0, 2]), 'model': LinearRegression(), 'weights': [[149.62065538236186, array([1052.32054866])], [155.03030613967434, array([938.74359785])], [148.35799346367716, array([956.94484324])]], 'valid_models': []},\n",
       " 'server-2': {'clients_connections': array([1, 3]), 'model': LinearRegression(), 'weights': [[150.51018565933487, array([975.31732556])], [149.83316633729274, array([951.49409266])]], 'valid_models': []}}"
      ]
     },
     "execution_count": 8,
     "metadata": {},
     "output_type": "execute_result"
    }
   ],
   "source": [
    "aggregators._models"
   ]
  },
  {
   "cell_type": "code",
   "execution_count": 9,
   "metadata": {},
   "outputs": [
    {
     "name": "stdout",
     "output_type": "stream",
     "text": [
      "{'server-1': {'clients_connections': array([4, 0, 2]), 'model': LinearRegression(), 'weights': [[149.62065538236186, array([1052.32054866])], [155.03030613967434, array([938.74359785])], [148.35799346367716, array([956.94484324])]], 'valid_models': []}, 'server-2': {'clients_connections': array([1, 3]), 'model': LinearRegression(), 'weights': [[150.51018565933487, array([975.31732556])], [149.83316633729274, array([951.49409266])]], 'valid_models': []}}\n"
     ]
    },
    {
     "data": {
      "text/plain": [
       "{'server-1': {'clients_connections': array([4, 0, 2]), 'model': LinearRegression(), 'weights': [[149.62065538236186, array([1052.32054866])], [155.03030613967434, array([938.74359785])], [148.35799346367716, array([956.94484324])], [150.51018565933487, array([975.31732556])], [149.83316633729274, array([951.49409266])]], 'valid_models': []},\n",
       " 'server-2': {'clients_connections': array([1, 3]), 'model': LinearRegression(), 'weights': [[149.62065538236186, array([1052.32054866])], [155.03030613967434, array([938.74359785])], [148.35799346367716, array([956.94484324])], [150.51018565933487, array([975.31732556])], [149.83316633729274, array([951.49409266])]], 'valid_models': []}}"
      ]
     },
     "execution_count": 9,
     "metadata": {},
     "output_type": "execute_result"
    }
   ],
   "source": [
    "p.gossip()\n",
    "aggregators._models"
   ]
  },
  {
   "cell_type": "code",
   "execution_count": 10,
   "metadata": {},
   "outputs": [
    {
     "data": {
      "text/plain": [
       "'server-1'"
      ]
     },
     "execution_count": 10,
     "metadata": {},
     "output_type": "execute_result"
    }
   ],
   "source": [
    "from flexBlock.pool.primitives import proof_of_work\n",
    "selected_miner = p._run_concensus(proof_of_work, [])\n",
    "# Ahora agregar\n",
    "selected_miner"
   ]
  },
  {
   "cell_type": "code",
   "execution_count": 11,
   "metadata": {},
   "outputs": [
    {
     "name": "stderr",
     "output_type": "stream",
     "text": [
      "/home/mariogmarq/.local/lib/python3.10/site-packages/numpy/core/fromnumeric.py:3504: RuntimeWarning: Mean of empty slice.\n",
      "  return _methods._mean(a, axis=axis, dtype=dtype,\n",
      "/home/mariogmarq/.local/lib/python3.10/site-packages/numpy/core/_methods.py:131: RuntimeWarning: invalid value encountered in scalar divide\n",
      "  ret = ret / rcount\n"
     ]
    }
   ],
   "source": [
    "from flex.pool import aggregate_weights\n",
    "import numpy as np\n",
    "\n",
    "@aggregate_weights\n",
    "def aggregate(list_of_weights: list):\n",
    "    return np.mean(np.asarray(list_of_weights, dtype=object), axis=0)\n",
    "\n",
    "# Aggregate weights\n",
    "aggregators.map(aggregate)"
   ]
  },
  {
   "cell_type": "code",
   "execution_count": 12,
   "metadata": {},
   "outputs": [
    {
     "data": {
      "text/plain": [
       "{'server-1': {'clients_connections': array([4, 0, 2]), 'model': LinearRegression(), 'weights': [], 'valid_models': [], 'aggregated_weights': nan},\n",
       " 'server-2': {'clients_connections': array([1, 3]), 'model': LinearRegression(), 'weights': [], 'valid_models': [], 'aggregated_weights': nan}}"
      ]
     },
     "execution_count": 12,
     "metadata": {},
     "output_type": "execute_result"
    }
   ],
   "source": [
    "aggregators._models"
   ]
  },
  {
   "cell_type": "code",
   "execution_count": null,
   "metadata": {},
   "outputs": [],
   "source": []
  }
 ],
 "metadata": {
  "kernelspec": {
   "display_name": "base",
   "language": "python",
   "name": "python3"
  },
  "language_info": {
   "codemirror_mode": {
    "name": "ipython",
    "version": 3
   },
   "file_extension": ".py",
   "mimetype": "text/x-python",
   "name": "python",
   "nbconvert_exporter": "python",
   "pygments_lexer": "ipython3",
   "version": "3.10.11"
  },
  "orig_nbformat": 4
 },
 "nbformat": 4,
 "nbformat_minor": 2
}
