{
 "cells": [
  {
   "cell_type": "markdown",
   "metadata": {},
   "source": [
    "## How to create a custom blockchain in FlexBlock\n",
    "In this notebook we are showing how to create a custom blockchain in FlexBlock. We will use it to train a linear regression model on the diabetes set from sklearn. First we will load the data and create the corresponing `FedDataset`.\n",
    "\n",
    "This notebook asumes previous experience with the Flex library for federated learning experiments. If you are not familiar with it, we recommend you to check the Flex tutorials first."
   ]
  },
  {
   "cell_type": "code",
   "execution_count": 1,
   "metadata": {},
   "outputs": [],
   "source": [
    "from sklearn.datasets import load_diabetes\n",
    "from sklearn.model_selection import train_test_split\n",
    "from flex.data import Dataset, FedDataDistribution\n",
    "import numpy as np\n",
    "\n",
    "# Load the diabetes dataset\n",
    "diabetes = load_diabetes()\n",
    "\n",
    "# Generate train-test splits\n",
    "X_train, X_test, y_train, y_test = train_test_split(\n",
    "    diabetes.data[:, np.newaxis, 2], diabetes.target, test_size=0.33, random_state=42\n",
    ")\n",
    "\n",
    "# We are going to use the train dataset for mining since we are supossed to learn from it too\n",
    "train_diabetes = Dataset.from_array(X_train, y_train)\n",
    "federated_diabetes = FedDataDistribution.iid_distribution(train_diabetes, n_nodes=5)"
   ]
  },
  {
   "cell_type": "markdown",
   "metadata": {},
   "source": [
    "Now let's define our custom block and blockchain structures. In FlexBlock we can define a custom block by inheriting from the `Block` class and implementing the `__init__` and `compute_hash` methods. The `__init__` method will recieve the weights stored by the block which should be passed to the parent class constructor. We can also add additional attributes to the block, for example, the mining difficulty or the number of iterations used to train the model. The `compute_hash` method should return a hash of the block. In our case we will just return a constant string. In a real application we would compute the hash from the block attributes using functions such as sha256 or any other cryptographical safe function.\n",
    "\n",
    "The blockchain is defined by inheriting from the `Blockchain` class and implementing the `__init__` and `add_block` method. The `__init__` method should call the parent class constructor with the genesis block given as an argument, we can add more parameters through `**kwargs`. Note that we are heriting from the `Blockchain` class with `MyCustomBlock` as a type parameter, this is not necesary but will give us type hinting by default. The `add_block` method should add a new block to the blockchain. Here one should ever call the parent method but we can add additional logic. For example, we can check that the block is valid before adding it to the blockchain in a certain way or regulating the difficulty of the block."
   ]
  },
  {
   "cell_type": "code",
   "execution_count": 2,
   "metadata": {},
   "outputs": [],
   "source": [
    "from flexBlock.blockchain import Blockchain, Block\n",
    "\n",
    "class MyCustomBlock(Block):\n",
    "    def __init__(self, weights):\n",
    "        # Here we can add what we want to store on the block\n",
    "        super().__init__(weights)\n",
    "    \n",
    "    def compute_hash(self):\n",
    "        # Always return the same hash just for testing \n",
    "        return \"MyCustomHash\"\n",
    "\n",
    "class MyCustomBlockchain(Blockchain[MyCustomBlock]):\n",
    "    # Remember to always define a __init__ function since it is abstract by default\n",
    "    def __init__(self, genesis_block: MyCustomBlock, *args, **kwargs):\n",
    "        # We initialize the blockchain with the custom genesis block\n",
    "        super().__init__(genesis_block)\n",
    "    \n",
    "    def add_block(self, block: MyCustomBlock):\n",
    "        # Here we can add custom logic such as adjusting the blockchain difficulty based on the previous blocks\n",
    "        return super().add_block(block)"
   ]
  },
  {
   "cell_type": "markdown",
   "metadata": {},
   "source": [
    "Now let's create our custom BlockchainPool. This is done by inheriting from the `BlockchainPool` class (note also the type hinting here) and implementing the `__init__`, `_consensus_mechanism` and `_pack_block` methods. The `__init__` method should call the `initialize_pool` method with a Blockchain and `FlexPool` of our choice. with the genesis block given as an argument, we can add more parameters through `**kwargs`. In our case we will create a `p2p_pool` for the underlying pool and a genesis block with no weights. In Blockflex the underlying pool is used to define the clients and miners of the experiment, where the aggregator role would denote the miners of the network.\n",
    "\n",
    "The `_consensus_mechanism` method defines the consensus mechanism of the network, that is, a function that should return which miner will pack the block and do the aggregation. Here miners is a dictionary of the form `{miner_id: miner}` where `miner_id` is the id of the miner and `miner` is a `FlexModel`. Remember that in fact this miners are the aggregators of the underlying pool. We can access the blockchain in this method and more information through `self.blockchain` or any other extra defined method. In our case we will just return a random miner.\n",
    "\n",
    "Finally, the `pack_block` method defines how the block is packed. Here we should return a `Block` object with the weights of the model and any other information we want to store. In our case we will just return a `MyCustomBlock` with the weights of the model."
   ]
  },
  {
   "cell_type": "code",
   "execution_count": 3,
   "metadata": {},
   "outputs": [],
   "source": [
    "from flexBlock.pool import BlockchainPool, PoolConfig\n",
    "from flex.data import FedDataset\n",
    "from flex.pool import FlexPool\n",
    "from typing import Callable\n",
    "from random import choice\n",
    "\n",
    "class MyCustomBlockchainPool(BlockchainPool[MyCustomBlockchain]):\n",
    "    def __init__(self, flex_dataset: FedDataset, init_func: Callable, *args, **kwargs):\n",
    "        # First we are creating the underlying flex pool that will be managed\n",
    "        pool = FlexPool.p2p_pool(flex_dataset, init_func=init_func, *args, **kwargs)\n",
    "        # Then the blockchain with his custom genesis block\n",
    "        blockchain = MyCustomBlockchain(MyCustomBlock([]))\n",
    "        # WARNING: Always call self._initialize_pool()\n",
    "        self.initialize_pool(blockchain, pool,config=PoolConfig(aggregate_before_acc=True, gossip_before_agg=False), **kwargs)\n",
    "    \n",
    "    # Now let's define our concensus mechanism\n",
    "    def consensus_mechanism(self, miners, *args, **kwargs):\n",
    "        # We need to return a miner key, in our case our consensus mechanism is just a random choice\n",
    "        keys = list(miners.keys())\n",
    "        selected = choice(keys)\n",
    "        print(f\"Selected miner: {selected}\")\n",
    "        return selected\n",
    "    \n",
    "    # Also we need to define how we are going to pack the block\n",
    "    def pack_block(self, weights):\n",
    "        # Just returning the new block\n",
    "        return MyCustomBlock(weights)\n"
   ]
  },
  {
   "cell_type": "markdown",
   "metadata": {},
   "source": [
    "Now that we have everything defined, we will write some boilerplate for our federated learning experiment."
   ]
  },
  {
   "cell_type": "code",
   "execution_count": 4,
   "metadata": {},
   "outputs": [],
   "source": [
    "from flex.pool import aggregate_weights, init_server_model, deploy_server_model, set_aggregated_weights\n",
    "from flex.model import FlexModel\n",
    "from sklearn.linear_model import LinearRegression\n",
    "import copy\n",
    "\n",
    "from flexBlock.pool import send_weights_to_miner, deploy_miner_model\n",
    "\n",
    "@aggregate_weights\n",
    "def aggregate(list_of_weights: list):\n",
    "    return np.mean(np.asarray(list_of_weights, dtype=object), axis=0)\n",
    "\n",
    "\n",
    "def train(client_flex_model: FlexModel, client_data: Dataset):\n",
    "    client_flex_model[\"model\"].fit(client_data.X_data, client_data.y_data)\n",
    "\n",
    "\n",
    "@send_weights_to_miner\n",
    "def get_clients_weights(client_flex_model: FlexModel):\n",
    "    return [client_flex_model[\"model\"].intercept_, client_flex_model[\"model\"].coef_]\n",
    "\n",
    "\n",
    "@init_server_model\n",
    "def build_server_model(**kwargs):\n",
    "    flex_model = FlexModel()\n",
    "    flex_model[\"model\"] = LinearRegression()\n",
    "    return flex_model\n",
    "\n",
    "\n",
    "@deploy_miner_model\n",
    "def copy_server_model_to_clients(server_flex_model: FlexModel):\n",
    "    return copy.deepcopy(server_flex_model)\n",
    "\n",
    "@set_aggregated_weights\n",
    "def set_weights_to_server_model(server_flex_model: FlexModel, aggregated_weights):\n",
    "    server_flex_model[\"model\"].intercept_ = aggregated_weights[0]\n",
    "    server_flex_model[\"model\"].coef_ = aggregated_weights[1]"
   ]
  },
  {
   "cell_type": "markdown",
   "metadata": {},
   "source": [
    "Now we can create our `MyCustomBlockchainPool` and run the experiment."
   ]
  },
  {
   "cell_type": "code",
   "execution_count": 5,
   "metadata": {},
   "outputs": [
    {
     "name": "stdout",
     "output_type": "stream",
     "text": [
      "Number of nodes in the pool 5. All of them are miners and clients.\n"
     ]
    }
   ],
   "source": [
    "# Create pool\n",
    "p = MyCustomBlockchainPool(\n",
    "    flex_dataset=federated_diabetes,\n",
    "    init_func=build_server_model,\n",
    ")\n",
    "\n",
    "servers = p.servers\n",
    "aggregators = p.aggregators\n",
    "clients = p.clients\n",
    "print(\n",
    "    f\"Number of nodes in the pool {len(p.actor_ids)}. All of them are miners and clients.\"\n",
    ")"
   ]
  },
  {
   "cell_type": "markdown",
   "metadata": {},
   "source": [
    "Let's train the model"
   ]
  },
  {
   "cell_type": "code",
   "execution_count": 6,
   "metadata": {},
   "outputs": [
    {
     "name": "stdout",
     "output_type": "stream",
     "text": [
      "Selected miner: 4\n",
      "Selected miner: 1\n",
      "Selected miner: 1\n",
      "Selected miner: 1\n",
      "Selected miner: 0\n"
     ]
    }
   ],
   "source": [
    "for _ in range(5):\n",
    "    servers.map(copy_server_model_to_clients, clients)\n",
    "    clients.map(train)\n",
    "    aggregators.map(get_clients_weights, clients)\n",
    "    p.aggregate(aggregate, set_weights=set_weights_to_server_model)\n",
    "    aggregators.map(set_weights_to_server_model, servers)"
   ]
  }
 ],
 "metadata": {
  "kernelspec": {
   "display_name": "base",
   "language": "python",
   "name": "python3"
  },
  "language_info": {
   "codemirror_mode": {
    "name": "ipython",
    "version": 3
   },
   "file_extension": ".py",
   "mimetype": "text/x-python",
   "name": "python",
   "nbconvert_exporter": "python",
   "pygments_lexer": "ipython3",
   "version": "3.10.11"
  }
 },
 "nbformat": 4,
 "nbformat_minor": 2
}
